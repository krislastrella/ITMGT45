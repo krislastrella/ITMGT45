{
 "cells": [
  {
   "cell_type": "code",
   "execution_count": 21,
   "id": "84a197b2",
   "metadata": {},
   "outputs": [
    {
     "data": {
      "text/plain": [
       "' '"
      ]
     },
     "execution_count": 21,
     "metadata": {},
     "output_type": "execute_result"
    }
   ],
   "source": [
    "def shift_letter(letter, shift):\n",
    "    '''Shift Letter. \n",
    "    4 points.\n",
    "    \n",
    "    Shift a letter right by the given number.\n",
    "    Wrap the letter around if it reaches the end of the alphabet.\n",
    "    Examples:\n",
    "    shift_letter(\"A\", 0) -> \"A\"\n",
    "    shift_letter(\"A\", 2) -> \"C\"\n",
    "    shift_letter(\"Z\", 1) -> \"A\"\n",
    "    shift_letter(\"X\", 5) -> \"C\"\n",
    "    shift_letter(\" \", _) -> \" \"\n",
    "    *Note: the single underscore `_` is used to acknowledge the presence\n",
    "        of a value without caring about its contents.\n",
    "    Parameters\n",
    "    ----------\n",
    "    letter: str\n",
    "        a single uppercase English letter, or a space.\n",
    "    shift: int\n",
    "        the number by which to shift the letter. \n",
    "    Returns\n",
    "    -------\n",
    "    str\n",
    "        the letter, shifted appropriately, if a letter.\n",
    "        a single space if the original letter was a space.\n",
    "    '''\n",
    "    # Replace `pass` with your code. \n",
    "    # Stay within the function. Only use the parameters as input. The function should return your answer.\n",
    "    if letter == \" \":\n",
    "        return \" \"\n",
    "    else:\n",
    "        unicode = ord(letter)\n",
    "        index = unicode - 65\n",
    "        newindex = (index + shift) % 26\n",
    "        newunicode=newindex+65\n",
    "        representation = chr(newunicode)\n",
    "        return representation\n"
   ]
  },
  {
   "cell_type": "code",
   "execution_count": 23,
   "id": "43fa33ed",
   "metadata": {},
   "outputs": [
    {
     "data": {
      "text/plain": [
       "'CUQCEHU'"
      ]
     },
     "execution_count": 23,
     "metadata": {},
     "output_type": "execute_result"
    }
   ],
   "source": [
    "def caesar_cipher(message, shift):\n",
    "    '''Caesar Cipher. \n",
    "    6 points.\n",
    "    \n",
    "    Apply a shift number to a string of uppercase English letters and spaces.\n",
    "    Parameters\n",
    "    ----------\n",
    "    message: str\n",
    "        a string of uppercase English letters and spaces.\n",
    "    shift: int\n",
    "        the number by which to shift the letters. \n",
    "    Returns\n",
    "    -------\n",
    "    str\n",
    "        the message, shifted appropriately.\n",
    "    '''\n",
    "    # Replace `pass` with your code. \n",
    "    # Stay within the function. Only use the parameters as input. The function should return your answer.\n",
    "    encryptedmessage =\"\"\n",
    "    for letter in message.upper():\n",
    "        if letter.isupper():\n",
    "            unicode = ord(letter)\n",
    "            index = unicode - 65\n",
    "            newindex = (index + shift) % 26\n",
    "            newunicode=newindex+65\n",
    "            representation = chr(newunicode)\n",
    "            encryptedmessage = encryptedmessage + representation\n",
    "        else: \n",
    "            encryptedmessage += letter\n",
    "    return encryptedmessage\n",
    "caesar_cipher(\"MEAMORE\", 42)"
   ]
  },
  {
   "cell_type": "code",
   "execution_count": 28,
   "id": "c0dfb9f2",
   "metadata": {},
   "outputs": [
    {
     "data": {
      "text/plain": [
       "' '"
      ]
     },
     "execution_count": 28,
     "metadata": {},
     "output_type": "execute_result"
    }
   ],
   "source": [
    "def shift_by_letter(letter, letter_shift):\n",
    "    '''Shift By Letter. \n",
    "    4 points.\n",
    "    \n",
    "    Shift a letter to the right using the number equivalent of another letter.\n",
    "    The shift letter is any letter from A to Z, where A represents 0, B represents 1, \n",
    "        ..., Z represents 25.\n",
    "    Examples:\n",
    "    shift_by_letter(\"A\", \"A\") -> \"A\"\n",
    "    shift_by_letter(\"A\", \"C\") -> \"C\"\n",
    "    shift_by_letter(\"B\", \"K\") -> \"L\"\n",
    "    shift_by_letter(\" \", _) -> \" \"\n",
    "    Parameters\n",
    "    ----------\n",
    "    letter: str\n",
    "        a single uppercase English letter, or a space.\n",
    "    letter_shift: str\n",
    "        a single uppercase English letter.\n",
    "    Returns\n",
    "    -------\n",
    "    str\n",
    "        the letter, shifted appropriately.\n",
    "    '''\n",
    "    # Replace `pass` with your code. \n",
    "    # Stay within the function. Only use the parameters as input. The function should return your answer.\n",
    "    if letter == \" \":\n",
    "        return \" \"\n",
    "    else:\n",
    "        unicode = ord(letter)\n",
    "        unicode2 = ord(letter_shift)\n",
    "        if unicode == unicode2:\n",
    "            return letter\n",
    "        elif unicode < unicode2:\n",
    "            shift = unicode2-unicode\n",
    "            index = unicode - 65\n",
    "            newindex = (index + shift) % 26\n",
    "            newunicode=newindex+65\n",
    "            representation = chr(newunicode)\n",
    "            return representation\n",
    "        else:\n",
    "            shift = unicode2-unicode\n",
    "            index = unicode - 65\n",
    "            newindex = (index + shift) % 26\n",
    "            newunicode=newindex+65\n",
    "            representation = chr(newunicode)\n",
    "            return representation\n",
    "shift_by_letter(\" \", \"B\")"
   ]
  },
  {
   "cell_type": "code",
   "execution_count": 9,
   "id": "17c41e25",
   "metadata": {},
   "outputs": [
    {
     "data": {
      "text/plain": [
       "'K A'"
      ]
     },
     "execution_count": 9,
     "metadata": {},
     "output_type": "execute_result"
    }
   ],
   "source": [
    "def vigenere_cipher(message, key):\n",
    "    '''Vigenere Cipher. \n",
    "    6 points.\n",
    "    \n",
    "    Encrypts a message using a keyphrase instead of a static number.\n",
    "    Every letter in the message is shifted by the number represented by the \n",
    "        respective letter in the key.\n",
    "    Spaces should be ignored.\n",
    "    Example:\n",
    "    vigenere_cipher(\"A C\", \"KEY\") -> \"K A\"\n",
    "    If needed, the keyphrase is extended to match the length of the key.\n",
    "        If the key is \"KEY\" and the message is \"LONGTEXT\",\n",
    "        the key will be extended to be \"KEYKEYKE\".\n",
    "    Parameters\n",
    "    ----------\n",
    "    message: str\n",
    "        a string of uppercase English letters and spaces.\n",
    "    key: str\n",
    "        a string of uppercase English letters. Will never be longer than the message.\n",
    "        Will never contain spaces.\n",
    "    Returns\n",
    "    -------\n",
    "    str\n",
    "        the message, shifted appropriately.\n",
    "    '''\n",
    "    # Replace `pass` with your code. \n",
    "    # Stay within the function. Only use the parameters as input. The function should return your answer.\n",
    "    message = message.upper()\n",
    "    key = key.upper()\n",
    "    keylen = len(key)\n",
    "    keyunicode = [ord(i) for i in key]\n",
    "    messageunicode = [ord(i) for i in message]\n",
    "    encryptedmessage = ''\n",
    "    for i in range(len(message)):\n",
    "        if   65 <= ord(message[i]) <=90:\n",
    "            new = (messageunicode[i] + keyunicode[i % keylen]) % 26\n",
    "            encryptedmessage += chr(new + 65)\n",
    "        else:\n",
    "            encryptedmessage += message[i]\n",
    "    return encryptedmessage\n",
    "vigenere_cipher(\"A C\", \"KEY\")"
   ]
  }
 ],
 "metadata": {
  "kernelspec": {
   "display_name": "Python 3 (ipykernel)",
   "language": "python",
   "name": "python3"
  },
  "language_info": {
   "codemirror_mode": {
    "name": "ipython",
    "version": 3
   },
   "file_extension": ".py",
   "mimetype": "text/x-python",
   "name": "python",
   "nbconvert_exporter": "python",
   "pygments_lexer": "ipython3",
   "version": "3.9.12"
  }
 },
 "nbformat": 4,
 "nbformat_minor": 5
}
